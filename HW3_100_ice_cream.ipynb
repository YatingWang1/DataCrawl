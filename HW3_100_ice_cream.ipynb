{
 "cells": [
  {
   "cell_type": "markdown",
   "metadata": {},
   "source": [
    "Data Crawling\n",
    "========"
   ]
  },
  {
   "cell_type": "code",
   "execution_count": 8,
   "metadata": {},
   "outputs": [],
   "source": [
    "#import packages\n",
    "from bs4 import BeautifulSoup\n",
    "import urllib.request\n",
    "import csv\n",
    "import time"
   ]
  },
  {
   "cell_type": "code",
   "execution_count": 9,
   "metadata": {},
   "outputs": [],
   "source": [
    "#the url we want to crawl\n",
    "url = 'https://www.yelp.com/search?find_desc=ice+cream&find_loc=10023&ns=1'"
   ]
  },
  {
   "cell_type": "code",
   "execution_count": 10,
   "metadata": {},
   "outputs": [],
   "source": [
    "def shop_info(soup): # return the shops in current soup in a list\n",
    "    shops=[]  # create an empty list to store shop information\n",
    "    for i in soup.find_all('div',{'class':'lemon--div__373c0__1mboc largerScrollablePhotos__373c0__3FEIJ arrange__373c0__UHqhV border-color--default__373c0__2oFDT'}):\n",
    "        if i.find('p').text.find('.') == -1:  #get shop ranking and filter out non-ranked advertisement\n",
    "            continue\n",
    "        #print(i.find('p').text)\n",
    "        per_ranking=i.find('p').text.split('.')\n",
    "        \n",
    "        new_ranking=per_ranking[0] # extract shop ranking\n",
    "        #print(new_ranking)\n",
    "\n",
    "        per_shopname=i.find('a').text  # extract shop name\n",
    "        #print(per_shopname)\n",
    "\n",
    "        per_rating=str(i.find('span',{'class':'lemon--span__373c0__3997G display--inline__373c0__1DbOG border-color--default__373c0__2oFDT'}).find('div'))\n",
    "        tmp_rating=per_rating.split('\"')\n",
    "        if len(tmp_rating)>1:\n",
    "            new_rating=tmp_rating[1]\n",
    "        else:\n",
    "            new_rating='None'\n",
    "        #print(new_rating)  # extract rating\n",
    "\n",
    "        review_count=str(i.find('span',{'class':'lemon--span__373c0__3997G text__373c0__2pB8f reviewCount__373c0__2r4xT text-color--mid__373c0__3G312 text-align--left__373c0__2pnx_'}))[146:-7]\n",
    "        #len('<span class=\"lemon--span__373c0__3997G text__373c0__2pB8f reviewCount__373c0__2r4xT text-color--mid__373c0__3G312 text-align--left__373c0__2pnx_\">')=146\n",
    "        #len('</span>')=7\n",
    "        #print(review_count)# extract review count\n",
    "\n",
    "        contact_info=i.find('div',{'class':'lemon--div__373c0__1mboc container__373c0__19wDx u-padding-l2 border-color--default__373c0__2oFDT text-align--right__373c0__3fmmn'})\n",
    "        if contact_info.find('div',{'class':'lemon--div__373c0__1mboc border-color--default__373c0__2oFDT'}):\n",
    "            if not contact_info.find('div',{'class':'lemon--div__373c0__1mboc border-color--default__373c0__2oFDT'}).find('span'):\n",
    "                per_phone=contact_info.find('div',{'class':'lemon--div__373c0__1mboc border-color--default__373c0__2oFDT'}).text\n",
    "            else:\n",
    "                per_phone='None'\n",
    "        else:\n",
    "            per_phone='None'\n",
    "        #print(per_phone) #extract phone\n",
    "\n",
    "        if contact_info.find('address'):\n",
    "            per_address= contact_info.find('address').text\n",
    "        else:\n",
    "            per_address='None'\n",
    "        #print(per_address) #extract address\n",
    "\n",
    "        if contact_info.find('div',{'class':'lemon--div__373c0__1mboc u-space-b1 border-color--default__373c0__2oFDT'}):\n",
    "            per_district=contact_info.find('div',{'class':'lemon--div__373c0__1mboc u-space-b1 border-color--default__373c0__2oFDT'}).text\n",
    "        else:\n",
    "            per_district='None'\n",
    "        #print(per_district) #extract district\n",
    "        \n",
    "        #populate the shop information row and apped to shop list\n",
    "        shop_info = [new_ranking, per_shopname, new_rating, review_count, per_phone, per_address, per_district]\n",
    "        shops.append(shop_info)\n",
    "    return shops"
   ]
  },
  {
   "cell_type": "code",
   "execution_count": 18,
   "metadata": {},
   "outputs": [
    {
     "name": "stdout",
     "output_type": "stream",
     "text": [
      "https://www.yelp.com/search?find_desc=ice+cream&find_loc=10023&ns=1&start=0\n",
      "[['1', 'Van Leeuwen Artisan Ice Cream', '4.5 star rating', '12 reviews', '(917) 388-2904', '1250 6th Ave', 'Theater District'], ['2', 'Emack and Bolio’s', '4 star rating', '286 reviews', '(212) 362-2747', '389 Amsterdam Ave', 'Upper West Side'], ['3', 'Van Leeuwen Ice Cream', '4.5 star rating', '23 reviews', '(646) 368-9195', '253 Columbus Ave', 'Upper West Side'], ['4', 'Grom', '4 star rating', '594 reviews', '(212) 974-3444', '1796 Broadway', 'Midtown West'], ['5', 'Ample Hills Creamery', '4.5 star rating', '348 reviews', '(212) 582-9354', '600 11th Ave', \"Hell's Kitchen\"], ['6', 'Van Leeuwen Ice Cream Truck', '3.5 star rating', '118 reviews', '(718) 701-1630', 'None', 'Upper West Side'], ['7', 'Van Leeuwen Ice Cream', '3.5 star rating', '121 reviews', '(646) 952-0311', '448 Amsterdam Ave', 'Upper West Side'], ['8', 'Amorino Gelato', '4.5 star rating', '188 reviews', '(212) 877-5700', '414 Amsterdam Ave', 'Upper West Side'], ['9', 'CoolMess', '4 star rating', '154 reviews', '(212) 355-9834', '137 E 62nd St', 'Upper East Side'], ['10', 'Amorino Gelato', '4.5 star rating', '702 reviews', '(212) 445-0101', '721 8th Ave', 'Midtown West']]\n",
      "https://www.yelp.com/search?find_desc=ice+cream&find_loc=10023&ns=1&start=10\n",
      "[['11', 'Récolte Dessert Bar', '4.5 star rating', '33 reviews', '(646) 928-0116', '300 Amsterdam Ave', 'Upper West Side'], ['12', '16 Handles x Mochidoki', '4 star rating', '26 reviews', '(212) 664-9608', '1000 S 8th Ave', \"Hell's Kitchen\"], ['13', 'Jacques Torres Chocolate', '4 star rating', '273 reviews', '(212) 787-3256', '285 Amsterdam Ave', 'Upper West Side'], ['14', 'Levain Bakery', '4.5 star rating', '7836 reviews', '(917) 464-3769', '167 W 74th St', 'Upper West Side'], ['15', 'Pinkberry', '3.5 star rating', '110 reviews', '(212) 580-3410', '2041 Broadway', 'Upper West Side'], ['16', 'Twister Cake Bakery', '5 star rating', '4 reviews', '(347) 946-2141', 'None', 'Upper West Side'], ['17', 'Beard Papa’s', '4.5 star rating', '806 reviews', '(212) 799-3770', '2167 Broadway', 'Upper West Side'], ['18', 'Wafels & Dinges', '4.5 star rating', '190 reviews', 'None', 'Broadway & 66th St', 'Upper West Side'], ['19', 'Sugar Factory', '3 star rating', '492 reviews', '(212) 414-8700', '1991 Broadway', 'Upper West Side'], ['20', 'Pinkberry', '3.5 star rating', '152 reviews', '(212) 397-0412', '330 West 58th St', \"Hell's Kitchen\"]]\n",
      "https://www.yelp.com/search?find_desc=ice+cream&find_loc=10023&ns=1&start=20\n",
      "[['21', 'Jacques Torres Chocolate', '4 star rating', '273 reviews', '(212) 787-3256', '285 Amsterdam Ave', 'Upper West Side'], ['22', 'Gelotti', '4.5 star rating', '12 reviews', 'None', '2486 Broadway', 'Upper West Side'], ['23', 'Levain Bakery', '4.5 star rating', '7836 reviews', '(917) 464-3769', '167 W 74th St', 'Upper West Side'], ['24', 'Pinkberry', '3.5 star rating', '110 reviews', '(212) 580-3410', '2041 Broadway', 'Upper West Side'], ['25', 'Ben & Jerry’s', '4 star rating', '72 reviews', '(212) 218-7843', '30 Rockefeller Ctr', 'Midtown West'], ['26', 'Twister Cake Bakery', '5 star rating', '4 reviews', '(347) 946-2141', 'None', 'Upper West Side'], ['27', 'Beard Papa’s', '4.5 star rating', '806 reviews', '(212) 799-3770', '2167 Broadway', 'Upper West Side'], ['28', 'Milk Bar Upper West Side', '3.5 star rating', '523 reviews', '(212) 256-0586', '561 Columbus Ave', 'Upper West Side'], ['29', 'Bibble & Sip', '4.5 star rating', '4653 reviews', '(646) 649-5116', '253 W 51st St', 'Theater District'], ['30', 'Wafels & Dinges', '4.5 star rating', '190 reviews', 'None', 'Broadway & 66th St', 'Upper West Side']]\n",
      "https://www.yelp.com/search?find_desc=ice+cream&find_loc=10023&ns=1&start=30\n",
      "[['31', 'Sweet Churros With Coffeed', '4.5 star rating', '63 reviews', '(917) 847-1878', 'West Broadway And 46th St', 'Theater District'], ['32', 'Uptown Swirl', '3.5 star rating', '249 reviews', '(646) 692-6614', '732 7th Ave', 'Theater District'], ['33', 'Screme Gelato Bar', '4 star rating', '114 reviews', '(646) 870-7798', '176 W 94th St', 'Upper West Side'], ['34', 'Ben & Jerry’s', '4 star rating', '30 reviews', '(201) 867-1111', '22 Riverwalk Place At Port Imperial', ''], ['35', 'Sugar Factory', '3 star rating', '492 reviews', '(212) 414-8700', '1991 Broadway', 'Upper West Side'], ['36', 'Pinkberry', '3.5 star rating', '152 reviews', '(212) 397-0412', '330 West 58th St', \"Hell's Kitchen\"], ['37', 'Lucky Pickle Dumpling', '3.5 star rating', '158 reviews', 'None', '513 Amsterdam Ave', 'Upper West Side'], ['38', 'Ben & Jerry’s', '3.5 star rating', '58 reviews', '(212) 933-4632', '200 W 44th St', 'Theater District'], ['39', 'Magnolia Bakery Upper West Side', '3.5 star rating', '1098 reviews', '(212) 724-8101', '200 Columbus Ave', 'Upper West Side'], ['40', 'Insomnia Cookies', '3.5 star rating', '318 reviews', '(929) 239-4768', '405 Amsterdam Ave', 'Upper West Side']]\n",
      "https://www.yelp.com/search?find_desc=ice+cream&find_loc=10023&ns=1&start=40\n",
      "[['41', 'Sugar Factory', '3 star rating', '492 reviews', '(212) 414-8700', '1991 Broadway', 'Upper West Side'], ['42', 'Beard Papa’s', '4.5 star rating', '100 reviews', '(212) 935-6308', '239 E 53rd St', 'Midtown East'], ['43', 'Ladurée Madison Ave', '4.5 star rating', '1864 reviews', '(646) 558-3157', '864 Madison Ave', 'Upper East Side'], ['44', 'Forty Carrots', '4 star rating', '409 reviews', '(212) 705-3085', '1000 3rd Ave', 'Midtown East'], ['45', 'Serendipity 3', '3 star rating', '4118 reviews', '(212) 838-3531', '225 E 60th St', 'Upper East Side'], ['46', 'Tea Magic', '4 star rating', '17 reviews', '(212) 712-2227', '239 W 72nd St', 'Upper West Side'], ['47', 'Trump’s Ice Cream Parlor', '3 star rating', '8 reviews', 'None', '725 5th Ave', 'Midtown East'], ['48', 'Cold Stone Creamery', '3 star rating', '201 reviews', '(212) 398-1938', '241 W 42nd St', 'Midtown West'], ['49', 'La Maison Du Chocolat', '4 star rating', '193 reviews', '(212) 744-7117', '1018 Madison Ave', 'Upper East Side'], ['50', 'Kochi', '5 star rating', '8 reviews', '(646) 478-7308', '652 10th Ave', \"Hell's Kitchen\"]]\n",
      "https://www.yelp.com/search?find_desc=ice+cream&find_loc=10023&ns=1&start=50\n",
      "[['51', 'Ho Ho Té', '4 star rating', '70 reviews', 'None', '805 8th Ave', 'Theater District'], ['52', 'The Leopard at des Artistes', '4 star rating', '210 reviews', '(212) 787-8767', '1 W 67th St', 'Upper West Side'], ['53', 'Insomnia Cookies', '3 star rating', '214 reviews', '(929) 333-4032', '237 E 53rd St', 'Midtown East'], ['54', 'Épicerie Boulud', '3.5 star rating', '332 reviews', '(212) 595-9606', '1900 Broadway', 'Upper West Side'], ['55', 'Velebit', '5 star rating', '21 reviews', '(212) 974-8444', '716 10th Ave', \"Hell's Kitchen\"], ['56', '16 Handles', '3 star rating', '65 reviews', '(646) 707-3424', '1161 1st Ave', 'Upper East Side'], ['57', 'Buttercup Bake Shop', '4 star rating', '198 reviews', '(212) 757-6900', '828 7th Ave', 'Theater District'], ['58', 'Shake Shack', '4 star rating', '2348 reviews', '(646) 747-8770', '366 Columbus Ave', 'Upper West Side'], ['59', 'Pinkberry', '3.5 star rating', '149 reviews', '(212) 223-1918', '1039 2nd Ave', 'Midtown East']]\n",
      "https://www.yelp.com/search?find_desc=ice+cream&find_loc=10023&ns=1&start=60\n",
      "[['61', 'Velebit', '5 star rating', '21 reviews', '(212) 974-8444', '716 10th Ave', \"Hell's Kitchen\"], ['62', 'Wafels & Dinges', '4.5 star rating', '172 reviews', 'None', 'Grand Army Plz', ''], ['63', 'Vive La Crepe', '3.5 star rating', '203 reviews', '(855) 273-7369', '189 Columbus Ave', 'Upper West Side'], ['64', 'Chick’nCone', '4.5 star rating', '131 reviews', '(956) 566-1730', '1000 S 8th Ave', \"Hell's Kitchen\"], ['65', 'K Minamoto', '4.5 star rating', '138 reviews', '(212) 489-3747', '509 Madison Ave', 'Midtown East'], ['66', 'Pier i Cafe', '4 star rating', '398 reviews', '(212) 362-4450', '500 W 70th St', ''], ['67', 'Mille-Feuille Bakery', '4.5 star rating', '264 reviews', '(212) 362-6261', '2175 Broadway', 'Upper West Side'], ['68', 'Blu Cafe', '4 star rating', '49 reviews', '(212) 580-1200', '120 Riverside Blvd', 'Upper West Side'], ['69', 'The Ribbon', '4 star rating', '131 reviews', '(212) 944-2474', '220 West 44th St', 'Theater District'], ['70', 'Little Pie Company', '4 star rating', '677 reviews', '(877) 872-7437', '424 W 43rd St', 'Midtown West']]\n",
      "https://www.yelp.com/search?find_desc=ice+cream&find_loc=10023&ns=1&start=70\n"
     ]
    },
    {
     "name": "stdout",
     "output_type": "stream",
     "text": [
      "[['71', 'Jacques Torres Chocolate', '4 star rating', '27 reviews', '(646) 852-6624', '110 E 57th St', 'Midtown East'], ['72', 'The Jolly Goat Coffee Bar', '4.5 star rating', '335 reviews', '(646) 509-8957', '515 W 47th St', \"Hell's Kitchen\"], ['73', 'Mom’s Kitchen & Bar', '4 star rating', '622 reviews', '(646) 657-0080', '701 9th Ave', \"Hell's Kitchen\"], ['74', 'Junior’s Restaurant & Bakery - 45th St.', '4 star rating', '4437 reviews', '(212) 302-2000', '1515 Broadway', 'Theater District'], ['75', 'The Milling Room', '4 star rating', '442 reviews', '(212) 595-0380', '446 Columbus Ave', 'Upper West Side'], ['76', 'Tasti D-Lite', '3.5 star rating', '7 reviews', '(212) 496-1466', '523 Amsterdam', 'Upper West Side'], ['77', 'Delicioso Coco Helado', '4.5 star rating', '18 reviews', 'None', 'SE Corner Of 96th And Broadway', 'Upper West Side'], ['78', 'Sant Ambroeus', '4 star rating', '373 reviews', '(212) 570-2211', '1000 Madison Ave', 'Upper East Side'], ['79', 'Storico', '4 star rating', '199 reviews', '(212) 485-9211', '170 Ctr Park W', 'Upper West Side'], ['80', 'Blu Cafe', '4 star rating', '49 reviews', '(212) 580-1200', '120 Riverside Blvd', 'Upper West Side']]\n",
      "https://www.yelp.com/search?find_desc=ice+cream&find_loc=10023&ns=1&start=80\n",
      "[['81', 'Cafe Sabarsky', '4 star rating', '488 reviews', '(212) 288-0665', '1048 5th Ave', 'Upper East Side'], ['82', 'La Maison Du Chocolat', '4 star rating', '415 reviews', '(212) 265-9404', '30 Rockefeller Plz', 'Midtown West'], ['83', 'The Ribbon', '3.5 star rating', '377 reviews', '(347) 504-7541', '20 W 72nd St', 'Upper West Side'], ['84', 'The Ribbon', '4 star rating', '131 reviews', '(212) 944-2474', '220 West 44th St', 'Theater District'], ['85', 'Pinkberry', '3.5 star rating', '181 reviews', '(212) 957-8440', '596 9th Ave.', 'Midtown West'], ['86', 'Tenny & Betsy - Tea and Pop-Ups', '3.5 star rating', '74 reviews', '(646) 726-4000', '197 E 76th St', 'Upper East Side'], ['87', 'Ivy Lane', '4.5 star rating', '25 reviews', '(212) 641-0577', '116 E 60th St', 'Upper East Side'], ['88', 'United City Ice Cube', '4.5 star rating', '14 reviews', '(646) 762-0995', '503 W 45th St', \"Hell's Kitchen\"], ['89', 'Hershey’s Chocolate World', '4 star rating', '101 reviews', '(212) 581-9100', '701 7th Ave', 'Theater District'], ['90', 'Tasti D-Lite', '2.5 star rating', '22 reviews', '(212) 717-1221', '1312 First Ave', 'Upper East Side']]\n",
      "https://www.yelp.com/search?find_desc=ice+cream&find_loc=10023&ns=1&start=90\n",
      "[['91', 'Alice’s Tea Cup', '4 star rating', '1111 reviews', '(212) 799-3006', '102 W 73rd St', 'Upper West Side'], ['92', 'Dylan’s Candy Bar', '3 star rating', '25 reviews', '(646) 735-0078', '57TH /58th St 8th Ave', \"Hell's Kitchen\"], ['93', 'Eclair Bakery', '4.5 star rating', '540 reviews', '(212) 371-3459', '305 E 53rd St', 'Midtown East'], ['94', 'Bluestone Lane', '4 star rating', '489 reviews', '(718) 374-6858', '1085 5th Ave', 'Upper East Side'], ['95', 'Green Apple Gourmet', '4 star rating', '91 reviews', '(212) 767-0198', '1625 Broadway', 'Theater District'], ['96', 'Poseidon Bakery', '4.5 star rating', '182 reviews', '(212) 757-6173', '629 9th Ave', 'Midtown West'], ['97', 'Cafe Luxembourg', '4 star rating', '476 reviews', '(212) 873-7411', '200 W 70th St', 'Upper West Side'], ['98', 'Magnolia Bakery Rockefeller Center', '3.5 star rating', '2411 reviews', '(212) 767-1123', '1240 Ave of the Americas', 'Theater District'], ['99', 'Donburiya', '4 star rating', '317 reviews', '(212) 980-7909', '253 W 55th St', 'Midtown West'], ['100', 'Sant Ambroeus Coffee Bar at Loews Regency Hotel', '4 star rating', '64 reviews', '(212) 339-4051', 'None', 'Upper East Side']]\n",
      "[['Ranking', 'Name of the shop', 'Rating', 'Number of reviews', 'Phone number', 'Detailed address', 'District information'], ['1', 'Van Leeuwen Artisan Ice Cream', '4.5 star rating', '12 reviews', '(917) 388-2904', '1250 6th Ave', 'Theater District'], ['2', 'Emack and Bolio’s', '4 star rating', '286 reviews', '(212) 362-2747', '389 Amsterdam Ave', 'Upper West Side'], ['3', 'Van Leeuwen Ice Cream', '4.5 star rating', '23 reviews', '(646) 368-9195', '253 Columbus Ave', 'Upper West Side'], ['4', 'Grom', '4 star rating', '594 reviews', '(212) 974-3444', '1796 Broadway', 'Midtown West'], ['5', 'Ample Hills Creamery', '4.5 star rating', '348 reviews', '(212) 582-9354', '600 11th Ave', \"Hell's Kitchen\"], ['6', 'Van Leeuwen Ice Cream Truck', '3.5 star rating', '118 reviews', '(718) 701-1630', 'None', 'Upper West Side'], ['7', 'Van Leeuwen Ice Cream', '3.5 star rating', '121 reviews', '(646) 952-0311', '448 Amsterdam Ave', 'Upper West Side'], ['8', 'Amorino Gelato', '4.5 star rating', '188 reviews', '(212) 877-5700', '414 Amsterdam Ave', 'Upper West Side'], ['9', 'CoolMess', '4 star rating', '154 reviews', '(212) 355-9834', '137 E 62nd St', 'Upper East Side'], ['10', 'Amorino Gelato', '4.5 star rating', '702 reviews', '(212) 445-0101', '721 8th Ave', 'Midtown West'], ['11', 'Récolte Dessert Bar', '4.5 star rating', '33 reviews', '(646) 928-0116', '300 Amsterdam Ave', 'Upper West Side'], ['12', '16 Handles x Mochidoki', '4 star rating', '26 reviews', '(212) 664-9608', '1000 S 8th Ave', \"Hell's Kitchen\"], ['13', 'Jacques Torres Chocolate', '4 star rating', '273 reviews', '(212) 787-3256', '285 Amsterdam Ave', 'Upper West Side'], ['14', 'Levain Bakery', '4.5 star rating', '7836 reviews', '(917) 464-3769', '167 W 74th St', 'Upper West Side'], ['15', 'Pinkberry', '3.5 star rating', '110 reviews', '(212) 580-3410', '2041 Broadway', 'Upper West Side'], ['16', 'Twister Cake Bakery', '5 star rating', '4 reviews', '(347) 946-2141', 'None', 'Upper West Side'], ['17', 'Beard Papa’s', '4.5 star rating', '806 reviews', '(212) 799-3770', '2167 Broadway', 'Upper West Side'], ['18', 'Wafels & Dinges', '4.5 star rating', '190 reviews', 'None', 'Broadway & 66th St', 'Upper West Side'], ['19', 'Sugar Factory', '3 star rating', '492 reviews', '(212) 414-8700', '1991 Broadway', 'Upper West Side'], ['20', 'Pinkberry', '3.5 star rating', '152 reviews', '(212) 397-0412', '330 West 58th St', \"Hell's Kitchen\"], ['21', 'Jacques Torres Chocolate', '4 star rating', '273 reviews', '(212) 787-3256', '285 Amsterdam Ave', 'Upper West Side'], ['22', 'Gelotti', '4.5 star rating', '12 reviews', 'None', '2486 Broadway', 'Upper West Side'], ['23', 'Levain Bakery', '4.5 star rating', '7836 reviews', '(917) 464-3769', '167 W 74th St', 'Upper West Side'], ['24', 'Pinkberry', '3.5 star rating', '110 reviews', '(212) 580-3410', '2041 Broadway', 'Upper West Side'], ['25', 'Ben & Jerry’s', '4 star rating', '72 reviews', '(212) 218-7843', '30 Rockefeller Ctr', 'Midtown West'], ['26', 'Twister Cake Bakery', '5 star rating', '4 reviews', '(347) 946-2141', 'None', 'Upper West Side'], ['27', 'Beard Papa’s', '4.5 star rating', '806 reviews', '(212) 799-3770', '2167 Broadway', 'Upper West Side'], ['28', 'Milk Bar Upper West Side', '3.5 star rating', '523 reviews', '(212) 256-0586', '561 Columbus Ave', 'Upper West Side'], ['29', 'Bibble & Sip', '4.5 star rating', '4653 reviews', '(646) 649-5116', '253 W 51st St', 'Theater District'], ['30', 'Wafels & Dinges', '4.5 star rating', '190 reviews', 'None', 'Broadway & 66th St', 'Upper West Side'], ['31', 'Sweet Churros With Coffeed', '4.5 star rating', '63 reviews', '(917) 847-1878', 'West Broadway And 46th St', 'Theater District'], ['32', 'Uptown Swirl', '3.5 star rating', '249 reviews', '(646) 692-6614', '732 7th Ave', 'Theater District'], ['33', 'Screme Gelato Bar', '4 star rating', '114 reviews', '(646) 870-7798', '176 W 94th St', 'Upper West Side'], ['34', 'Ben & Jerry’s', '4 star rating', '30 reviews', '(201) 867-1111', '22 Riverwalk Place At Port Imperial', ''], ['35', 'Sugar Factory', '3 star rating', '492 reviews', '(212) 414-8700', '1991 Broadway', 'Upper West Side'], ['36', 'Pinkberry', '3.5 star rating', '152 reviews', '(212) 397-0412', '330 West 58th St', \"Hell's Kitchen\"], ['37', 'Lucky Pickle Dumpling', '3.5 star rating', '158 reviews', 'None', '513 Amsterdam Ave', 'Upper West Side'], ['38', 'Ben & Jerry’s', '3.5 star rating', '58 reviews', '(212) 933-4632', '200 W 44th St', 'Theater District'], ['39', 'Magnolia Bakery Upper West Side', '3.5 star rating', '1098 reviews', '(212) 724-8101', '200 Columbus Ave', 'Upper West Side'], ['40', 'Insomnia Cookies', '3.5 star rating', '318 reviews', '(929) 239-4768', '405 Amsterdam Ave', 'Upper West Side'], ['41', 'Sugar Factory', '3 star rating', '492 reviews', '(212) 414-8700', '1991 Broadway', 'Upper West Side'], ['42', 'Beard Papa’s', '4.5 star rating', '100 reviews', '(212) 935-6308', '239 E 53rd St', 'Midtown East'], ['43', 'Ladurée Madison Ave', '4.5 star rating', '1864 reviews', '(646) 558-3157', '864 Madison Ave', 'Upper East Side'], ['44', 'Forty Carrots', '4 star rating', '409 reviews', '(212) 705-3085', '1000 3rd Ave', 'Midtown East'], ['45', 'Serendipity 3', '3 star rating', '4118 reviews', '(212) 838-3531', '225 E 60th St', 'Upper East Side'], ['46', 'Tea Magic', '4 star rating', '17 reviews', '(212) 712-2227', '239 W 72nd St', 'Upper West Side'], ['47', 'Trump’s Ice Cream Parlor', '3 star rating', '8 reviews', 'None', '725 5th Ave', 'Midtown East'], ['48', 'Cold Stone Creamery', '3 star rating', '201 reviews', '(212) 398-1938', '241 W 42nd St', 'Midtown West'], ['49', 'La Maison Du Chocolat', '4 star rating', '193 reviews', '(212) 744-7117', '1018 Madison Ave', 'Upper East Side'], ['50', 'Kochi', '5 star rating', '8 reviews', '(646) 478-7308', '652 10th Ave', \"Hell's Kitchen\"], ['51', 'Ho Ho Té', '4 star rating', '70 reviews', 'None', '805 8th Ave', 'Theater District'], ['52', 'The Leopard at des Artistes', '4 star rating', '210 reviews', '(212) 787-8767', '1 W 67th St', 'Upper West Side'], ['53', 'Insomnia Cookies', '3 star rating', '214 reviews', '(929) 333-4032', '237 E 53rd St', 'Midtown East'], ['54', 'Épicerie Boulud', '3.5 star rating', '332 reviews', '(212) 595-9606', '1900 Broadway', 'Upper West Side'], ['55', 'Velebit', '5 star rating', '21 reviews', '(212) 974-8444', '716 10th Ave', \"Hell's Kitchen\"], ['56', '16 Handles', '3 star rating', '65 reviews', '(646) 707-3424', '1161 1st Ave', 'Upper East Side'], ['57', 'Buttercup Bake Shop', '4 star rating', '198 reviews', '(212) 757-6900', '828 7th Ave', 'Theater District'], ['58', 'Shake Shack', '4 star rating', '2348 reviews', '(646) 747-8770', '366 Columbus Ave', 'Upper West Side'], ['59', 'Pinkberry', '3.5 star rating', '149 reviews', '(212) 223-1918', '1039 2nd Ave', 'Midtown East'], ['61', 'Velebit', '5 star rating', '21 reviews', '(212) 974-8444', '716 10th Ave', \"Hell's Kitchen\"], ['62', 'Wafels & Dinges', '4.5 star rating', '172 reviews', 'None', 'Grand Army Plz', ''], ['63', 'Vive La Crepe', '3.5 star rating', '203 reviews', '(855) 273-7369', '189 Columbus Ave', 'Upper West Side'], ['64', 'Chick’nCone', '4.5 star rating', '131 reviews', '(956) 566-1730', '1000 S 8th Ave', \"Hell's Kitchen\"], ['65', 'K Minamoto', '4.5 star rating', '138 reviews', '(212) 489-3747', '509 Madison Ave', 'Midtown East'], ['66', 'Pier i Cafe', '4 star rating', '398 reviews', '(212) 362-4450', '500 W 70th St', ''], ['67', 'Mille-Feuille Bakery', '4.5 star rating', '264 reviews', '(212) 362-6261', '2175 Broadway', 'Upper West Side'], ['68', 'Blu Cafe', '4 star rating', '49 reviews', '(212) 580-1200', '120 Riverside Blvd', 'Upper West Side'], ['69', 'The Ribbon', '4 star rating', '131 reviews', '(212) 944-2474', '220 West 44th St', 'Theater District'], ['70', 'Little Pie Company', '4 star rating', '677 reviews', '(877) 872-7437', '424 W 43rd St', 'Midtown West'], ['71', 'Jacques Torres Chocolate', '4 star rating', '27 reviews', '(646) 852-6624', '110 E 57th St', 'Midtown East'], ['72', 'The Jolly Goat Coffee Bar', '4.5 star rating', '335 reviews', '(646) 509-8957', '515 W 47th St', \"Hell's Kitchen\"], ['73', 'Mom’s Kitchen & Bar', '4 star rating', '622 reviews', '(646) 657-0080', '701 9th Ave', \"Hell's Kitchen\"], ['74', 'Junior’s Restaurant & Bakery - 45th St.', '4 star rating', '4437 reviews', '(212) 302-2000', '1515 Broadway', 'Theater District'], ['75', 'The Milling Room', '4 star rating', '442 reviews', '(212) 595-0380', '446 Columbus Ave', 'Upper West Side'], ['76', 'Tasti D-Lite', '3.5 star rating', '7 reviews', '(212) 496-1466', '523 Amsterdam', 'Upper West Side'], ['77', 'Delicioso Coco Helado', '4.5 star rating', '18 reviews', 'None', 'SE Corner Of 96th And Broadway', 'Upper West Side'], ['78', 'Sant Ambroeus', '4 star rating', '373 reviews', '(212) 570-2211', '1000 Madison Ave', 'Upper East Side'], ['79', 'Storico', '4 star rating', '199 reviews', '(212) 485-9211', '170 Ctr Park W', 'Upper West Side'], ['80', 'Blu Cafe', '4 star rating', '49 reviews', '(212) 580-1200', '120 Riverside Blvd', 'Upper West Side'], ['81', 'Cafe Sabarsky', '4 star rating', '488 reviews', '(212) 288-0665', '1048 5th Ave', 'Upper East Side'], ['82', 'La Maison Du Chocolat', '4 star rating', '415 reviews', '(212) 265-9404', '30 Rockefeller Plz', 'Midtown West'], ['83', 'The Ribbon', '3.5 star rating', '377 reviews', '(347) 504-7541', '20 W 72nd St', 'Upper West Side'], ['84', 'The Ribbon', '4 star rating', '131 reviews', '(212) 944-2474', '220 West 44th St', 'Theater District'], ['85', 'Pinkberry', '3.5 star rating', '181 reviews', '(212) 957-8440', '596 9th Ave.', 'Midtown West'], ['86', 'Tenny & Betsy - Tea and Pop-Ups', '3.5 star rating', '74 reviews', '(646) 726-4000', '197 E 76th St', 'Upper East Side'], ['87', 'Ivy Lane', '4.5 star rating', '25 reviews', '(212) 641-0577', '116 E 60th St', 'Upper East Side'], ['88', 'United City Ice Cube', '4.5 star rating', '14 reviews', '(646) 762-0995', '503 W 45th St', \"Hell's Kitchen\"], ['89', 'Hershey’s Chocolate World', '4 star rating', '101 reviews', '(212) 581-9100', '701 7th Ave', 'Theater District'], ['90', 'Tasti D-Lite', '2.5 star rating', '22 reviews', '(212) 717-1221', '1312 First Ave', 'Upper East Side'], ['91', 'Alice’s Tea Cup', '4 star rating', '1111 reviews', '(212) 799-3006', '102 W 73rd St', 'Upper West Side'], ['92', 'Dylan’s Candy Bar', '3 star rating', '25 reviews', '(646) 735-0078', '57TH /58th St 8th Ave', \"Hell's Kitchen\"], ['93', 'Eclair Bakery', '4.5 star rating', '540 reviews', '(212) 371-3459', '305 E 53rd St', 'Midtown East'], ['94', 'Bluestone Lane', '4 star rating', '489 reviews', '(718) 374-6858', '1085 5th Ave', 'Upper East Side'], ['95', 'Green Apple Gourmet', '4 star rating', '91 reviews', '(212) 767-0198', '1625 Broadway', 'Theater District'], ['96', 'Poseidon Bakery', '4.5 star rating', '182 reviews', '(212) 757-6173', '629 9th Ave', 'Midtown West'], ['97', 'Cafe Luxembourg', '4 star rating', '476 reviews', '(212) 873-7411', '200 W 70th St', 'Upper West Side'], ['98', 'Magnolia Bakery Rockefeller Center', '3.5 star rating', '2411 reviews', '(212) 767-1123', '1240 Ave of the Americas', 'Theater District'], ['99', 'Donburiya', '4 star rating', '317 reviews', '(212) 980-7909', '253 W 55th St', 'Midtown West'], ['100', 'Sant Ambroeus Coffee Bar at Loews Regency Hotel', '4 star rating', '64 reviews', '(212) 339-4051', 'None', 'Upper East Side']]\n"
     ]
    }
   ],
   "source": [
    "#create a list to store shop information and create header line\n",
    "shop_list = [['Ranking','Name of the shop','Rating','Number of reviews','Phone number','Detailed address','District information']]\n",
    "for n in range(0,10):\n",
    "    url_current=url+'&start='+str(n*10)\n",
    "    print(url_current)\n",
    "    ourUrl=urllib.request.urlopen(url_current)\n",
    "    soup=BeautifulSoup(ourUrl,'html.parser')\n",
    "    #print(soup.prettify())\n",
    "    shops = shop_info(soup)\n",
    "    print(shops)\n",
    "    shop_list.extend(shops)\n",
    "print(shop_list)"
   ]
  },
  {
   "cell_type": "code",
   "execution_count": 23,
   "metadata": {},
   "outputs": [],
   "source": [
    "#store review into a csv file \n",
    "with open('100IceCreamShop.csv','w',newline='', encoding='utf-8') as f:\n",
    "    wr = csv.writer(f,dialect='excel')\n",
    "    wr.writerows(shop_list)"
   ]
  },
  {
   "cell_type": "markdown",
   "metadata": {},
   "source": [
    "Draw bar chart\n",
    "============"
   ]
  },
  {
   "cell_type": "code",
   "execution_count": 21,
   "metadata": {},
   "outputs": [],
   "source": [
    "import pandas as pd\n",
    "import re\n",
    "%matplotlib inline"
   ]
  },
  {
   "cell_type": "code",
   "execution_count": 25,
   "metadata": {},
   "outputs": [],
   "source": [
    "shop=pd.read_csv('100IceCreamShop.csv')"
   ]
  },
  {
   "cell_type": "code",
   "execution_count": 26,
   "metadata": {},
   "outputs": [
    {
     "data": {
      "text/html": [
       "<div>\n",
       "<style scoped>\n",
       "    .dataframe tbody tr th:only-of-type {\n",
       "        vertical-align: middle;\n",
       "    }\n",
       "\n",
       "    .dataframe tbody tr th {\n",
       "        vertical-align: top;\n",
       "    }\n",
       "\n",
       "    .dataframe thead th {\n",
       "        text-align: right;\n",
       "    }\n",
       "</style>\n",
       "<table border=\"1\" class=\"dataframe\">\n",
       "  <thead>\n",
       "    <tr style=\"text-align: right;\">\n",
       "      <th></th>\n",
       "      <th>Ranking</th>\n",
       "      <th>Name of the shop</th>\n",
       "      <th>Number of reviews</th>\n",
       "      <th>Phone number</th>\n",
       "      <th>Detailed address</th>\n",
       "      <th>District information</th>\n",
       "      <th>Rating number</th>\n",
       "    </tr>\n",
       "  </thead>\n",
       "  <tbody>\n",
       "    <tr>\n",
       "      <th>0</th>\n",
       "      <td>1</td>\n",
       "      <td>Van Leeuwen Artisan Ice Cream</td>\n",
       "      <td>12 reviews</td>\n",
       "      <td>(917) 388-2904</td>\n",
       "      <td>1250 6th Ave</td>\n",
       "      <td>Theater District</td>\n",
       "      <td>4.5</td>\n",
       "    </tr>\n",
       "    <tr>\n",
       "      <th>1</th>\n",
       "      <td>2</td>\n",
       "      <td>Emack and Bolio’s</td>\n",
       "      <td>286 reviews</td>\n",
       "      <td>(212) 362-2747</td>\n",
       "      <td>389 Amsterdam Ave</td>\n",
       "      <td>Upper West Side</td>\n",
       "      <td>4.0</td>\n",
       "    </tr>\n",
       "    <tr>\n",
       "      <th>2</th>\n",
       "      <td>3</td>\n",
       "      <td>Van Leeuwen Ice Cream</td>\n",
       "      <td>23 reviews</td>\n",
       "      <td>(646) 368-9195</td>\n",
       "      <td>253 Columbus Ave</td>\n",
       "      <td>Upper West Side</td>\n",
       "      <td>4.5</td>\n",
       "    </tr>\n",
       "    <tr>\n",
       "      <th>3</th>\n",
       "      <td>4</td>\n",
       "      <td>Grom</td>\n",
       "      <td>594 reviews</td>\n",
       "      <td>(212) 974-3444</td>\n",
       "      <td>1796 Broadway</td>\n",
       "      <td>Midtown West</td>\n",
       "      <td>4.0</td>\n",
       "    </tr>\n",
       "    <tr>\n",
       "      <th>4</th>\n",
       "      <td>5</td>\n",
       "      <td>Ample Hills Creamery</td>\n",
       "      <td>348 reviews</td>\n",
       "      <td>(212) 582-9354</td>\n",
       "      <td>600 11th Ave</td>\n",
       "      <td>Hell's Kitchen</td>\n",
       "      <td>4.5</td>\n",
       "    </tr>\n",
       "  </tbody>\n",
       "</table>\n",
       "</div>"
      ],
      "text/plain": [
       "   Ranking               Name of the shop Number of reviews    Phone number  \\\n",
       "0        1  Van Leeuwen Artisan Ice Cream        12 reviews  (917) 388-2904   \n",
       "1        2              Emack and Bolio’s       286 reviews  (212) 362-2747   \n",
       "2        3          Van Leeuwen Ice Cream        23 reviews  (646) 368-9195   \n",
       "3        4                           Grom       594 reviews  (212) 974-3444   \n",
       "4        5           Ample Hills Creamery       348 reviews  (212) 582-9354   \n",
       "\n",
       "    Detailed address District information  Rating number  \n",
       "0       1250 6th Ave     Theater District            4.5  \n",
       "1  389 Amsterdam Ave      Upper West Side            4.0  \n",
       "2   253 Columbus Ave      Upper West Side            4.5  \n",
       "3      1796 Broadway         Midtown West            4.0  \n",
       "4       600 11th Ave       Hell's Kitchen            4.5  "
      ]
     },
     "execution_count": 26,
     "metadata": {},
     "output_type": "execute_result"
    }
   ],
   "source": [
    "# proprocess rating number\n",
    "shop['Rating number'] = shop['Rating'].str.split(expand=True)[0]\n",
    "del shop['Rating']\n",
    "shop['Rating number'] = pd.to_numeric(shop['Rating number'],errors='coerce')\n",
    "shop.head()"
   ]
  },
  {
   "cell_type": "code",
   "execution_count": 20,
   "metadata": {},
   "outputs": [
    {
     "data": {
      "text/html": [
       "<div>\n",
       "<style scoped>\n",
       "    .dataframe tbody tr th:only-of-type {\n",
       "        vertical-align: middle;\n",
       "    }\n",
       "\n",
       "    .dataframe tbody tr th {\n",
       "        vertical-align: top;\n",
       "    }\n",
       "\n",
       "    .dataframe thead th {\n",
       "        text-align: right;\n",
       "    }\n",
       "</style>\n",
       "<table border=\"1\" class=\"dataframe\">\n",
       "  <thead>\n",
       "    <tr style=\"text-align: right;\">\n",
       "      <th></th>\n",
       "      <th>count</th>\n",
       "    </tr>\n",
       "    <tr>\n",
       "      <th>District information</th>\n",
       "      <th></th>\n",
       "    </tr>\n",
       "  </thead>\n",
       "  <tbody>\n",
       "    <tr>\n",
       "      <th>Hell's Kitchen</th>\n",
       "      <td>12</td>\n",
       "    </tr>\n",
       "    <tr>\n",
       "      <th>Midtown East</th>\n",
       "      <td>8</td>\n",
       "    </tr>\n",
       "    <tr>\n",
       "      <th>Midtown West</th>\n",
       "      <td>9</td>\n",
       "    </tr>\n",
       "    <tr>\n",
       "      <th>Theater District</th>\n",
       "      <td>13</td>\n",
       "    </tr>\n",
       "    <tr>\n",
       "      <th>Upper East Side</th>\n",
       "      <td>12</td>\n",
       "    </tr>\n",
       "    <tr>\n",
       "      <th>Upper West Side</th>\n",
       "      <td>42</td>\n",
       "    </tr>\n",
       "  </tbody>\n",
       "</table>\n",
       "</div>"
      ],
      "text/plain": [
       "                      count\n",
       "District information       \n",
       "Hell's Kitchen           12\n",
       "Midtown East              8\n",
       "Midtown West              9\n",
       "Theater District         13\n",
       "Upper East Side          12\n",
       "Upper West Side          42"
      ]
     },
     "execution_count": 20,
     "metadata": {},
     "output_type": "execute_result"
    }
   ],
   "source": [
    "shop.groupby('District information')['Name of the shop'].agg(['count'])"
   ]
  },
  {
   "cell_type": "code",
   "execution_count": 19,
   "metadata": {},
   "outputs": [
    {
     "data": {
      "text/plain": [
       "<matplotlib.axes._subplots.AxesSubplot at 0x274e47ba0f0>"
      ]
     },
     "execution_count": 19,
     "metadata": {},
     "output_type": "execute_result"
    },
    {
     "data": {
      "image/png": "[encoded data removed]",
      "text/plain": [
       "<Figure size 432x288 with 1 Axes>"
      ]
     },
     "metadata": {
      "needs_background": "light"
     },
     "output_type": "display_data"
    }
   ],
   "source": [
    "shop.groupby('District information')['Name of the shop'].agg(['count']).plot(kind='bar')"
   ]
  },
  {
   "cell_type": "code",
   "execution_count": 18,
   "metadata": {},
   "outputs": [
    {
     "data": {
      "text/plain": [
       "District information\n",
       "Hell's Kitchen      4.250000\n",
       "Midtown East        3.875000\n",
       "Midtown West        3.944444\n",
       "Theater District    4.000000\n",
       "Upper East Side     3.750000\n",
       "Upper West Side     3.976190\n",
       "Name: Rating number, dtype: float64"
      ]
     },
     "execution_count": 18,
     "metadata": {},
     "output_type": "execute_result"
    }
   ],
   "source": [
    "shop.groupby('District information')['Rating number'].mean()"
   ]
  },
  {
   "cell_type": "code",
   "execution_count": 17,
   "metadata": {},
   "outputs": [
    {
     "data": {
      "text/plain": [
       "<matplotlib.axes._subplots.AxesSubplot at 0x274e474d198>"
      ]
     },
     "execution_count": 17,
     "metadata": {},
     "output_type": "execute_result"
    },
    {
     "data": {
      "image/png": "[encoded data removed]",
      "text/plain": [
       "<Figure size 432x288 with 1 Axes>"
      ]
     },
     "metadata": {
      "needs_background": "light"
     },
     "output_type": "display_data"
    }
   ],
   "source": [
    "shop.groupby('District information')['Rating number'].mean().plot(kind='bar',ylim=(3,4.5))"
   ]
  }
 ],
 "metadata": {
  "kernelspec": {
   "display_name": "Python 3",
   "language": "python",
   "name": "python3"
  },
  "language_info": {
   "codemirror_mode": {
    "name": "ipython",
    "version": 3
   },
   "file_extension": ".py",
   "mimetype": "text/x-python",
   "name": "python",
   "nbconvert_exporter": "python",
   "pygments_lexer": "ipython3",
   "version": "3.7.3"
  }
 },
 "nbformat": 4,
 "nbformat_minor": 2
}
